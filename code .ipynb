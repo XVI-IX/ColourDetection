{
 "cells": [
  {
   "cell_type": "code",
   "execution_count": 51,
   "metadata": {},
   "outputs": [],
   "source": [
    "import pandas as pd\n",
    "import numpy as np\n",
    "import matplotlib.pyplot as plt\n",
    "import sklearn\n",
    "from sklearn.cluster import KMeans, Birch\n",
    "from collections import Counter\n",
    "from skimage.color import rgb2lab, deltaE_cie76\n",
    "# import cv2 as cv\n",
    "from PIL import Image"
   ]
  },
  {
   "cell_type": "code",
   "execution_count": 52,
   "metadata": {},
   "outputs": [
    {
     "data": {
      "text/plain": [
       "array([[[255, 255, 255],\n",
       "        [255, 255, 255],\n",
       "        [255, 255, 255],\n",
       "        ...,\n",
       "        [255, 255, 255],\n",
       "        [255, 255, 255],\n",
       "        [255, 255, 255]],\n",
       "\n",
       "       [[255, 255, 255],\n",
       "        [255, 255, 255],\n",
       "        [255, 255, 255],\n",
       "        ...,\n",
       "        [255, 255, 255],\n",
       "        [255, 255, 255],\n",
       "        [255, 255, 255]],\n",
       "\n",
       "       [[255, 255, 255],\n",
       "        [255, 255, 255],\n",
       "        [255, 255, 255],\n",
       "        ...,\n",
       "        [255, 255, 255],\n",
       "        [255, 255, 255],\n",
       "        [255, 255, 255]],\n",
       "\n",
       "       ...,\n",
       "\n",
       "       [[255, 255, 255],\n",
       "        [255, 255, 255],\n",
       "        [255, 255, 255],\n",
       "        ...,\n",
       "        [255, 255, 255],\n",
       "        [255, 255, 255],\n",
       "        [255, 255, 255]],\n",
       "\n",
       "       [[255, 255, 255],\n",
       "        [255, 255, 255],\n",
       "        [255, 255, 255],\n",
       "        ...,\n",
       "        [255, 255, 255],\n",
       "        [255, 255, 255],\n",
       "        [255, 255, 255]],\n",
       "\n",
       "       [[255, 255, 255],\n",
       "        [255, 255, 255],\n",
       "        [255, 255, 255],\n",
       "        ...,\n",
       "        [255, 255, 255],\n",
       "        [255, 255, 255],\n",
       "        [255, 255, 255]]], dtype=uint8)"
      ]
     },
     "execution_count": 52,
     "metadata": {},
     "output_type": "execute_result"
    }
   ],
   "source": [
    "def get_image(image_path):\n",
    "  image = Image.open(image_path)\n",
    "\n",
    "  return np.array(image)\n",
    "\n",
    "image = get_image(\"./481903.png\")\n",
    "image"
   ]
  },
  {
   "cell_type": "code",
   "execution_count": 22,
   "metadata": {},
   "outputs": [],
   "source": [
    "# def get_image(image_path):\n",
    "#   image = cv.imread(image_path)\n",
    "\n",
    "#   # converting from BGR colorspace to RGB colorspace\n",
    "#   image = cv.cvtColor(image, cv.COLOR_BGR2RGB)\n",
    "#   return image"
   ]
  },
  {
   "cell_type": "code",
   "execution_count": 53,
   "metadata": {},
   "outputs": [],
   "source": [
    "def RGBHEX(color):\n",
    "  return (f\"#{int(color[0]):02x}{int(color[1]):02x}{int(color[2]):02x}\")"
   ]
  },
  {
   "cell_type": "code",
   "execution_count": 63,
   "metadata": {},
   "outputs": [
    {
     "data": {
      "text/plain": [
       "(1200, 1920, 3)"
      ]
     },
     "execution_count": 63,
     "metadata": {},
     "output_type": "execute_result"
    }
   ],
   "source": [
    "image = get_image(\"./736461.png\")\n",
    "image.shape"
   ]
  },
  {
   "cell_type": "code",
   "execution_count": 55,
   "metadata": {},
   "outputs": [
    {
     "data": {
      "text/plain": [
       "array([[[ 48,   2,  19, 255],\n",
       "        [ 66,   2,  29, 255],\n",
       "        [ 87,   3,  44, 255],\n",
       "        ...,\n",
       "        [150, 142,  87, 255],\n",
       "        [153, 142,  93, 255],\n",
       "        [146, 132,  96, 255]],\n",
       "\n",
       "       [[ 47,   0,  24, 255],\n",
       "        [ 74,   0,  34, 255],\n",
       "        [ 92,   0,  46, 255],\n",
       "        ...,\n",
       "        [142, 133,  85, 255],\n",
       "        [137, 126,  80, 255],\n",
       "        [136, 127,  87, 255]],\n",
       "\n",
       "       [[ 33,   0,  19, 255],\n",
       "        [ 69,   0,  36, 255],\n",
       "        [ 96,   5,  48, 255],\n",
       "        ...,\n",
       "        [141, 137,  86, 255],\n",
       "        [141, 135,  85, 255],\n",
       "        [143, 143,  93, 255]],\n",
       "\n",
       "       ...,\n",
       "\n",
       "       [[  2,   0,  13, 255],\n",
       "        [  4,   0,  16, 255],\n",
       "        [  3,   0,  19, 255],\n",
       "        ...,\n",
       "        [  3,   0,  15, 255],\n",
       "        [  3,   0,  14, 255],\n",
       "        [  4,   0,  12, 255]],\n",
       "\n",
       "       [[  4,   0,  16, 255],\n",
       "        [  4,   0,  16, 255],\n",
       "        [  4,   0,  21, 255],\n",
       "        ...,\n",
       "        [  4,   0,  15, 255],\n",
       "        [  0,   0,  15, 255],\n",
       "        [  3,   0,  13, 255]],\n",
       "\n",
       "       [[  0,   0,  13, 255],\n",
       "        [  0,   0,  14, 255],\n",
       "        [  1,   0,  15, 255],\n",
       "        ...,\n",
       "        [  4,   0,  15, 255],\n",
       "        [  0,   0,  14, 255],\n",
       "        [ 12,   0,  13, 255]]], dtype=uint8)"
      ]
     },
     "execution_count": 55,
     "metadata": {},
     "output_type": "execute_result"
    }
   ],
   "source": [
    "image_array = np.array(image)\n",
    "image_array"
   ]
  },
  {
   "cell_type": "code",
   "execution_count": 58,
   "metadata": {},
   "outputs": [
    {
     "data": {
      "text/plain": [
       "(3538944, 4)"
      ]
     },
     "execution_count": 58,
     "metadata": {},
     "output_type": "execute_result"
    }
   ],
   "source": [
    "number_of_colors = 5\n",
    "mod_image = image_array.reshape(image_array.shape[0] * image_array.shape[1], 4)\n",
    "mod_image.shape"
   ]
  },
  {
   "cell_type": "code",
   "execution_count": 59,
   "metadata": {},
   "outputs": [
    {
     "data": {
      "text/plain": [
       "array([[ 48,   2,  19, 255],\n",
       "       [ 66,   2,  29, 255],\n",
       "       [ 87,   3,  44, 255],\n",
       "       ...,\n",
       "       [  4,   0,  15, 255],\n",
       "       [  0,   0,  14, 255],\n",
       "       [ 12,   0,  13, 255]], dtype=uint8)"
      ]
     },
     "execution_count": 59,
     "metadata": {},
     "output_type": "execute_result"
    }
   ],
   "source": [
    "mod_image"
   ]
  },
  {
   "cell_type": "code",
   "execution_count": 60,
   "metadata": {},
   "outputs": [],
   "source": [
    "clf = KMeans(n_clusters=number_of_colors)\n",
    "labels = clf.fit_predict(mod_image)"
   ]
  },
  {
   "cell_type": "code",
   "execution_count": 61,
   "metadata": {},
   "outputs": [
    {
     "data": {
      "text/plain": [
       "array([0, 0, 4, ..., 0, 0, 0], dtype=int32)"
      ]
     },
     "execution_count": 61,
     "metadata": {},
     "output_type": "execute_result"
    }
   ],
   "source": [
    "labels"
   ]
  },
  {
   "cell_type": "code",
   "execution_count": 62,
   "metadata": {},
   "outputs": [],
   "source": [
    "counts = Counter(labels)"
   ]
  },
  {
   "cell_type": "code",
   "execution_count": 45,
   "metadata": {},
   "outputs": [
    {
     "data": {
      "text/plain": [
       "Counter({0: 3237571, 4: 219584, 3: 57245, 1: 264770, 2: 417182})"
      ]
     },
     "execution_count": 45,
     "metadata": {},
     "output_type": "execute_result"
    }
   ],
   "source": [
    "counts"
   ]
  },
  {
   "cell_type": "code",
   "execution_count": 46,
   "metadata": {},
   "outputs": [
    {
     "data": {
      "text/plain": [
       "array([[254.94344587, 254.92737889, 254.91933211],\n",
       "       [220.82398752,  18.18937875,  27.55481152],\n",
       "       [236.17668505, 243.70719564,  34.41505047],\n",
       "       [ 12.754922  ,  10.52420383,   8.55185787],\n",
       "       [212.09816744, 201.42370573,  36.27780257]])"
      ]
     },
     "execution_count": 46,
     "metadata": {},
     "output_type": "execute_result"
    }
   ],
   "source": [
    "center_colors = clf.cluster_centers_\n",
    "center_colors"
   ]
  },
  {
   "cell_type": "code",
   "execution_count": 47,
   "metadata": {},
   "outputs": [
    {
     "data": {
      "text/plain": [
       "[array([254.94344587, 254.92737889, 254.91933211]),\n",
       " array([212.09816744, 201.42370573,  36.27780257]),\n",
       " array([12.754922  , 10.52420383,  8.55185787]),\n",
       " array([220.82398752,  18.18937875,  27.55481152]),\n",
       " array([236.17668505, 243.70719564,  34.41505047])]"
      ]
     },
     "execution_count": 47,
     "metadata": {},
     "output_type": "execute_result"
    }
   ],
   "source": [
    "ordered_colors = [center_colors[i] for i in counts.keys()]\n",
    "ordered_colors"
   ]
  },
  {
   "cell_type": "code",
   "execution_count": 48,
   "metadata": {},
   "outputs": [],
   "source": [
    "hex_colors = [RGBHEX(ordered_colors[i]) for i in counts.keys()]"
   ]
  },
  {
   "cell_type": "code",
   "execution_count": 49,
   "metadata": {},
   "outputs": [
    {
     "data": {
      "text/plain": [
       "['#fefefe', '#ecf322', '#dc121b', '#d4c924', '#0c0a08']"
      ]
     },
     "execution_count": 49,
     "metadata": {},
     "output_type": "execute_result"
    }
   ],
   "source": [
    "hex_colors"
   ]
  },
  {
   "cell_type": "code",
   "execution_count": 50,
   "metadata": {},
   "outputs": [
    {
     "data": {
      "text/plain": [
       "([<matplotlib.patches.Wedge at 0x7f976fdf5c90>,\n",
       "  <matplotlib.patches.Wedge at 0x7f974bb5bd00>,\n",
       "  <matplotlib.patches.Wedge at 0x7f974bb59c00>,\n",
       "  <matplotlib.patches.Wedge at 0x7f974bb5ba00>,\n",
       "  <matplotlib.patches.Wedge at 0x7f9743c76e60>],\n",
       " [Text(-0.8285873121917066, 0.7234936530992677, '#fefefe'),\n",
       "  Text(0.32465998899580084, -1.0509975697142437, '#ecf322'),\n",
       "  Text(0.5339734020276214, -0.9617028677959988, '#dc121b'),\n",
       "  Text(0.7481361071040387, -0.8064070716748549, '#d4c924'),\n",
       "  Text(1.0467847298911377, -0.33799664091043624, '#0c0a08')])"
      ]
     },
     "execution_count": 50,
     "metadata": {},
     "output_type": "execute_result"
    },
    {
     "data": {
      "image/png": "[encoded data removed]",
      "text/plain": [
       "<Figure size 640x480 with 1 Axes>"
      ]
     },
     "metadata": {},
     "output_type": "display_data"
    }
   ],
   "source": [
    "plt.pie(counts.values(), labels=hex_colors, colors=hex_colors)"
   ]
  },
  {
   "cell_type": "code",
   "execution_count": null,
   "metadata": {},
   "outputs": [],
   "source": []
  },
  {
   "cell_type": "code",
   "execution_count": null,
   "metadata": {},
   "outputs": [],
   "source": []
  }
 ],
 "metadata": {
  "kernelspec": {
   "display_name": "ComputerVision",
   "language": "python",
   "name": "python3"
  },
  "language_info": {
   "codemirror_mode": {
    "name": "ipython",
    "version": 3
   },
   "file_extension": ".py",
   "mimetype": "text/x-python",
   "name": "python",
   "nbconvert_exporter": "python",
   "pygments_lexer": "ipython3",
   "version": "3.10.8"
  },
  "orig_nbformat": 4,
  "vscode": {
   "interpreter": {
    "hash": "91a3a3268a9500592485316ba88c1257892db2d82c49249eb337dc8e2cb4280d"
   }
  }
 },
 "nbformat": 4,
 "nbformat_minor": 2
}
